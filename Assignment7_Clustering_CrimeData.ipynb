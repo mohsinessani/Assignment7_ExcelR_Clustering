{
 "cells": [
  {
   "cell_type": "code",
   "execution_count": 62,
   "id": "d8a27b55",
   "metadata": {},
   "outputs": [],
   "source": [
    "##Mohsin Essani\n",
    "\n",
    "\n",
    "import numpy as np\n",
    "import pandas as pd\n",
    "from sklearn.cluster import AgglomerativeClustering\n",
    "from sklearn.metrics import silhouette_score as sil_score\n",
    "import matplotlib.pyplot as plt\n",
    "%matplotlib inline \n",
    "from sklearn.preprocessing import StandardScaler\n",
    "from sklearn.metrics import adjusted_rand_score, fowlkes_mallows_score\n",
    "from sklearn.metrics import calinski_harabasz_score, davies_bouldin_score\n",
    "from sklearn.cluster import KMeans\n",
    "from sklearn.cluster import DBSCAN\n",
    "from sklearn.model_selection import cross_val_score\n",
    "import seaborn as sns"
   ]
  },
  {
   "cell_type": "code",
   "execution_count": 4,
   "id": "faa310b7",
   "metadata": {},
   "outputs": [],
   "source": [
    "# Load data\n",
    "crime_data=pd.read_csv(\"crime_data.csv\")"
   ]
  },
  {
   "cell_type": "markdown",
   "id": "0b5b6d10",
   "metadata": {},
   "source": [
    "# Hierarchical Clustering "
   ]
  },
  {
   "cell_type": "code",
   "execution_count": 5,
   "id": "9a449564",
   "metadata": {},
   "outputs": [],
   "source": [
    "# Prepare the data for clustering\n",
    "X = crime_data.drop(['Country'], axis=1)\n",
    "\n",
    "# Perform hierarchical clustering\n",
    "agg_clustering = AgglomerativeClustering(n_clusters=2,linkage='complete',affinity='manhattan')\n",
    "agg_clustering.fit(X)\n",
    "\n",
    "# Get the cluster labels\n",
    "labels = agg_clustering.labels_\n"
   ]
  },
  {
   "cell_type": "code",
   "execution_count": 6,
   "id": "e8ab28c9",
   "metadata": {},
   "outputs": [],
   "source": [
    "#Using StandardScaler\n",
    "\n",
    "scaler = StandardScaler()\n",
    "crime_data_scaled = scaler.fit_transform(crime_data.iloc[:,1:5])\n"
   ]
  },
  {
   "cell_type": "code",
   "execution_count": 7,
   "id": "c56a1647",
   "metadata": {},
   "outputs": [
    {
     "name": "stdout",
     "output_type": "stream",
     "text": [
      "Silhouette Score:  0.3178843328226182\n",
      "Adjusted Rand Index: 0.0032594633646398628\n",
      "Fowlkes-Mallows Index: 0.07241815037889603\n",
      "Calinski-Harabasz Index: 26.517532680371524\n",
      "Davies-Bouldin Index: 1.1505885220726406\n"
     ]
    }
   ],
   "source": [
    "\n",
    "# Calculate the Silhouette score\n",
    "\n",
    "\n",
    "silhouette = sil_score(crime_data_scaled, labels)\n",
    "print(\"Silhouette Score: \", silhouette)\n",
    "\n",
    "\n",
    "\n",
    "# calculate the adjusted rand index\n",
    "ari = adjusted_rand_score(crime_data['Murder'], agg_clustering.labels_)\n",
    "print(\"Adjusted Rand Index:\", ari)\n",
    "\n",
    "# calculate the Fowlkes-Mallows index\n",
    "fmi = fowlkes_mallows_score(crime_data['Murder'], agg_clustering.labels_)\n",
    "print(\"Fowlkes-Mallows Index:\", fmi)\n",
    "\n",
    "# calculate the Calinski-Harabasz index\n",
    "chi = calinski_harabasz_score(crime_data_scaled, agg_clustering.labels_)\n",
    "print(\"Calinski-Harabasz Index:\", chi)\n",
    "\n",
    "# calculate the Davies-Bouldin index\n",
    "dbi = davies_bouldin_score(crime_data_scaled, agg_clustering.labels_)\n",
    "print(\"Davies-Bouldin Index:\", dbi)\n",
    "\n"
   ]
  },
  {
   "cell_type": "markdown",
   "id": "fc607ce0",
   "metadata": {},
   "source": [
    "As in the above observations, Hierarchical clustering is not the perfect choice for this type of dataset and now we will try KMeans and see whether we can improve the accuracy or not. "
   ]
  },
  {
   "cell_type": "code",
   "execution_count": 8,
   "id": "78347619",
   "metadata": {},
   "outputs": [
    {
     "data": {
      "text/plain": [
       "(array([34., 16.]),\n",
       " array([-0.5,  0.5,  1.5]),\n",
       " <BarContainer object of 2 artists>)"
      ]
     },
     "execution_count": 8,
     "metadata": {},
     "output_type": "execute_result"
    },
    {
     "data": {
      "image/png": "[encoded data removed]",
      "text/plain": [
       "<Figure size 432x288 with 1 Axes>"
      ]
     },
     "metadata": {
      "needs_background": "light"
     },
     "output_type": "display_data"
    }
   ],
   "source": [
    "# Plot the distribution of the labels\n",
    "plt.hist(labels, bins=np.arange(labels.min(), labels.max()+2)-0.5, \n",
    "         edgecolor='black', linewidth=1.2)\n"
   ]
  },
  {
   "cell_type": "code",
   "execution_count": 9,
   "id": "218820e2",
   "metadata": {},
   "outputs": [
    {
     "data": {
      "image/png": "[encoded data removed]",
      "text/plain": [
       "<Figure size 432x288 with 1 Axes>"
      ]
     },
     "metadata": {
      "needs_background": "light"
     },
     "output_type": "display_data"
    }
   ],
   "source": [
    "# Plot the data to visualize the clusters\n",
    "plt.scatter(X['Murder'], X['Assault'], c=labels)\n",
    "plt.xlabel('Murder')\n",
    "plt.ylabel('Assault')\n",
    "plt.show()\n"
   ]
  },
  {
   "cell_type": "code",
   "execution_count": null,
   "id": "df9726b4",
   "metadata": {},
   "outputs": [],
   "source": []
  },
  {
   "cell_type": "markdown",
   "id": "2418877d",
   "metadata": {},
   "source": [
    "# KMeans CLustering \n"
   ]
  },
  {
   "cell_type": "code",
   "execution_count": 54,
   "id": "27dd51b4",
   "metadata": {},
   "outputs": [
    {
     "data": {
      "text/plain": [
       "KMeans(algorithm='auto', copy_x=True, init='k-means++', max_iter=500,\n",
       "       n_clusters=2, n_init=10, n_jobs=None, precompute_distances='auto',\n",
       "       random_state=30, tol=0.0001, verbose=0)"
      ]
     },
     "execution_count": 54,
     "metadata": {},
     "output_type": "execute_result"
    }
   ],
   "source": [
    "# Perform KMeans clustering\n",
    "kmeans = KMeans(n_clusters=2,random_state=30,max_iter=500)\n",
    "kmeans.fit(crime_data_scaled)"
   ]
  },
  {
   "cell_type": "code",
   "execution_count": 55,
   "id": "3a1a4c60",
   "metadata": {},
   "outputs": [],
   "source": [
    "# Predict the cluster labels\n",
    "labels = kmeans.labels_"
   ]
  },
  {
   "cell_type": "code",
   "execution_count": 56,
   "id": "d3bac6ad",
   "metadata": {},
   "outputs": [
    {
     "data": {
      "text/plain": [
       "array([0, 0, 0, 1, 0, 0, 1, 1, 0, 0, 1, 1, 0, 1, 1, 1, 1, 0, 1, 0, 1, 0,\n",
       "       1, 0, 0, 1, 1, 0, 1, 1, 0, 0, 0, 1, 1, 1, 1, 1, 1, 0, 1, 0, 0, 1,\n",
       "       1, 1, 1, 1, 1, 1])"
      ]
     },
     "execution_count": 56,
     "metadata": {},
     "output_type": "execute_result"
    }
   ],
   "source": [
    "kmeans.labels_"
   ]
  },
  {
   "cell_type": "code",
   "execution_count": 57,
   "id": "9bb928d6",
   "metadata": {},
   "outputs": [
    {
     "name": "stdout",
     "output_type": "stream",
     "text": [
      "Silhouette Score:  0.4084890326217641\n",
      "Adjusted Rand Index: 0.010973936899862825\n",
      "Fowlkes-Mallows Index: 0.10583005244258362\n",
      "Calinski-Harabasz Index: 43.46199150301377\n",
      "Davies-Bouldin Index: 0.9697186749933391\n",
      "Inertia: 104.96163315756871\n"
     ]
    }
   ],
   "source": [
    "#calculate the silhouette score\n",
    "silhouette = sil_score(crime_data_scaled, labels)\n",
    "print(\"Silhouette Score: \", silhouette)\n",
    "\n",
    "# calculate the adjusted rand index\n",
    "ari = adjusted_rand_score(crime_data['Murder'], kmeans.labels_)\n",
    "print(\"Adjusted Rand Index:\", ari)\n",
    "\n",
    "# calculate the Fowlkes-Mallows index\n",
    "fmi = fowlkes_mallows_score(crime_data['Murder'], kmeans.labels_)\n",
    "print(\"Fowlkes-Mallows Index:\", fmi)\n",
    "\n",
    "# calculate the Calinski-Harabasz index\n",
    "chi = calinski_harabasz_score(crime_data_scaled, kmeans.labels_)\n",
    "print(\"Calinski-Harabasz Index:\", chi)\n",
    "\n",
    "# calculate the Davies-Bouldin index\n",
    "dbi = davies_bouldin_score(crime_data_scaled, kmeans.labels_)\n",
    "print(\"Davies-Bouldin Index:\", dbi)\n",
    "\n",
    "# Calculate the Inertia\n",
    "inertia = kmeans.inertia_\n",
    "print(\"Inertia:\", inertia)\n"
   ]
  },
  {
   "cell_type": "markdown",
   "id": "d8280cc6",
   "metadata": {},
   "source": [
    "As seen in the above inference, accuracy is improved but yet not good for this dataset. We will try DBScan and try to improve more accuracy."
   ]
  },
  {
   "cell_type": "code",
   "execution_count": null,
   "id": "b0c31d61",
   "metadata": {},
   "outputs": [],
   "source": [
    "# Plot the distribution of the labels\n",
    "plt.hist(labels, bins=np.arange(labels.min(), labels.max()+2)-0.5, \n",
    "         edgecolor='black', linewidth=1.2)\n",
    "plt.show()"
   ]
  },
  {
   "cell_type": "code",
   "execution_count": null,
   "id": "2aad0258",
   "metadata": {},
   "outputs": [],
   "source": [
    "\n",
    "# Plot the scatter plot to visualize the clusters\n",
    "plt.scatter(X[\"Murder\"], X[\"Assault\"], c=labels)\n",
    "plt.xlabel(\"Murder\")\n",
    "plt.ylabel(\"Assault\")\n",
    "plt.show()"
   ]
  },
  {
   "cell_type": "markdown",
   "id": "0ae57137",
   "metadata": {},
   "source": [
    "# DBSCAN Algorithm"
   ]
  },
  {
   "cell_type": "code",
   "execution_count": 58,
   "id": "1e43ccf7",
   "metadata": {
    "scrolled": true
   },
   "outputs": [],
   "source": [
    "\n",
    "import numpy as np\n",
    "import pandas as pd\n",
    "from sklearn.cluster import DBSCAN\n",
    "from sklearn.preprocessing import StandardScaler\n",
    "from sklearn.metrics import silhouette_score as sil_score, adjusted_rand_score, fowlkes_mallows_score, calinski_harabasz_score, davies_bouldin_score\n",
    "from sklearn.pipeline import Pipeline\n",
    "\n",
    "# Load data into a pandas dataframe\n",
    "data = pd.read_csv('crime_data.csv')\n",
    "features = data.iloc[:, 1:]\n",
    "\n",
    "# Scale the data to normalize it\n",
    "scaler = StandardScaler()\n",
    "features_scaled = scaler.fit_transform(features)\n",
    "\n",
    "# Perform DBSCAN clustering\n",
    "dbscan = DBSCAN(eps=0.9, min_samples=2)\n",
    "clusters = dbscan.fit_predict(features_scaled)\n",
    "\n",
    "\n",
    "# Number of clusters formed\n",
    "unique_labels = np.unique(clusters)\n",
    "n_clusters = len(unique_labels)\n"
   ]
  },
  {
   "cell_type": "code",
   "execution_count": 59,
   "id": "100046ae",
   "metadata": {},
   "outputs": [
    {
     "name": "stdout",
     "output_type": "stream",
     "text": [
      "Silhouette score: 0.08637454244810451\n",
      "Adjusted Rand index: 0.32168754119973636\n",
      "Fowlkes-Mallows index: 0.5805019002039105\n",
      "Calinski-Harabasz index: 6.550438553986862\n",
      "Davies-Bouldin index: 1.7091163755583256\n"
     ]
    }
   ],
   "source": [
    "# Silhouette score\n",
    "from sklearn.metrics import silhouette_score\n",
    "\n",
    "clusters = dbscan.labels_\n",
    "\n",
    "if len(set(clusters)) > 1:\n",
    "    silhouette_score = silhouette_score(features_scaled, clusters)\n",
    "    print(\"Silhouette score:\", silhouette_score)\n",
    "else:\n",
    "    print(\"Number of unique clusters is less than 2, silhouette score cannot be calculated\")\n",
    "\n",
    "\n",
    "# Adjusted Rand index\n",
    "\n",
    "adjusted_rand_index = adjusted_rand_score(labels, clusters)\n",
    "print(\"Adjusted Rand index:\", adjusted_rand_index)\n",
    "\n",
    "# Fowlkes-Mallows index\n",
    "fowlkes_mallows_index = fowlkes_mallows_score(labels, clusters)\n",
    "print(\"Fowlkes-Mallows index:\", fowlkes_mallows_index)\n",
    "\n",
    "# Calinski-Harabasz index\n",
    "calinski_harabasz_index = calinski_harabasz_score(crime_data_scaled, clusters)\n",
    "print(\"Calinski-Harabasz index:\", calinski_harabasz_index)\n",
    "\n",
    "# Davies-Bouldin index\n",
    "davies_bouldin_index = davies_bouldin_score(crime_data_scaled, clusters)\n",
    "print(\"Davies-Bouldin index:\", davies_bouldin_index)\n"
   ]
  },
  {
   "cell_type": "code",
   "execution_count": null,
   "id": "1569fd03",
   "metadata": {},
   "outputs": [],
   "source": []
  },
  {
   "cell_type": "code",
   "execution_count": 63,
   "id": "75faf4b2",
   "metadata": {},
   "outputs": [
    {
     "data": {
      "image/png": "[encoded data removed]",
      "text/plain": [
       "<Figure size 432x288 with 1 Axes>"
      ]
     },
     "metadata": {
      "needs_background": "light"
     },
     "output_type": "display_data"
    }
   ],
   "source": [
    "# Plot the distribution of labels\n",
    "sns.countplot(clusters)\n",
    "plt.title(\"Distribution of labels\")\n",
    "plt.show()\n",
    "\n"
   ]
  },
  {
   "cell_type": "code",
   "execution_count": 64,
   "id": "1ae5ec81",
   "metadata": {},
   "outputs": [
    {
     "data": {
      "image/png": "[encoded data removed]",
      "text/plain": [
       "<Figure size 432x288 with 1 Axes>"
      ]
     },
     "metadata": {
      "needs_background": "light"
     },
     "output_type": "display_data"
    }
   ],
   "source": [
    "# Scatter plot to visualize the clusters\n",
    "plt.scatter(features_scaled[:, 0], features_scaled[:, 1], c=clusters)\n",
    "plt.title(\"Clusters\")\n",
    "plt.show()"
   ]
  },
  {
   "cell_type": "code",
   "execution_count": null,
   "id": "e76e85ba",
   "metadata": {},
   "outputs": [],
   "source": []
  },
  {
   "cell_type": "code",
   "execution_count": null,
   "id": "3d728a51",
   "metadata": {},
   "outputs": [],
   "source": []
  },
  {
   "cell_type": "code",
   "execution_count": null,
   "id": "b99ba987",
   "metadata": {},
   "outputs": [],
   "source": []
  }
 ],
 "metadata": {
  "kernelspec": {
   "display_name": "Python 3",
   "language": "python",
   "name": "python3"
  },
  "language_info": {
   "codemirror_mode": {
    "name": "ipython",
    "version": 3
   },
   "file_extension": ".py",
   "mimetype": "text/x-python",
   "name": "python",
   "nbconvert_exporter": "python",
   "pygments_lexer": "ipython3",
   "version": "3.7.6"
  }
 },
 "nbformat": 4,
 "nbformat_minor": 5
}
