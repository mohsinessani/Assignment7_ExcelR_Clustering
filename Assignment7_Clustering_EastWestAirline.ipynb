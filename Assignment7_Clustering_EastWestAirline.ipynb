{
 "cells": [
  {
   "cell_type": "code",
   "execution_count": null,
   "id": "856f7f93",
   "metadata": {},
   "outputs": [],
   "source": [
    "#Mohsin Essani\n",
    "\n",
    "import pandas as pd\n",
    "import numpy as np\n",
    "import seaborn as sns\n",
    "import matplotlib.pyplot as plt\n",
    "import matplotlib.cm as cm\n",
    "from sklearn.cluster import KMeans, AgglomerativeClustering, DBSCAN\n",
    "import scipy.cluster.hierarchy as sch\n",
    "from sklearn.preprocessing import MinMaxScaler, StandardScaler\n",
    "from sklearn.metrics import silhouette_score as sil, calinski_harabasz_score as chs, silhouette_samples\n",
    "from sklearn.metrics import adjusted_rand_score, fowlkes_mallows_score, calinski_harabasz_score, davies_bouldin_score\n",
    "from sklearn.metrics import calinski_harabasz_score, davies_bouldin_score\n",
    "from sklearn.metrics import silhouette_score as sil_score\n",
    "from sklearn.model_selection import cross_val_score, KFold\n",
    "from sklearn.ensemble import RandomForestClassifier\n",
    "from sklearn.cluster import DBSCAN\n",
    "from scipy.cluster.hierarchy import linkage, dendrogram, fcluster\n",
    "from sklearn.model_selection import cross_validate, KFold\n",
    "\n",
    "\n",
    "# Get the silhouette score"
   ]
  },
  {
   "cell_type": "code",
   "execution_count": null,
   "id": "0df98943",
   "metadata": {},
   "outputs": [],
   "source": [
    "# Supressing Warnings\n",
    "import warnings\n",
    "warnings.filterwarnings('ignore')"
   ]
  },
  {
   "cell_type": "code",
   "execution_count": null,
   "id": "98ad2dde",
   "metadata": {},
   "outputs": [],
   "source": [
    "# Data display customization\n",
    "\n",
    "pd.set_option('display.max_columns', None)\n",
    "pd.set_option('display.max_colwidth', -1)"
   ]
  },
  {
   "cell_type": "code",
   "execution_count": null,
   "id": "b2b258ec",
   "metadata": {},
   "outputs": [],
   "source": [
    "# Importing dataset\n",
    "data = pd.read_excel('EastWestAirlines.xlsx',sheet_name='data')\n",
    "\n",
    "# Column rename.\n",
    "data.rename(columns={'ID#':'ID', 'Award?':'Award'}, inplace=True)\n",
    "\n",
    "#Set ID as Index Column\n",
    "data.set_index('ID',inplace=True)\n",
    "data"
   ]
  },
  {
   "cell_type": "markdown",
   "id": "da70b257",
   "metadata": {},
   "source": [
    "# Hierarchical Clustering"
   ]
  },
  {
   "cell_type": "code",
   "execution_count": null,
   "id": "f9bc773e",
   "metadata": {},
   "outputs": [],
   "source": [
    "# Scale the data\n",
    "data_scaled = (data - np.mean(data)) / np.std(data)\n"
   ]
  },
  {
   "cell_type": "code",
   "execution_count": null,
   "id": "4a056f57",
   "metadata": {},
   "outputs": [],
   "source": [
    "# Perform hierarchical clustering\n",
    "Z = linkage(data_scaled, method='ward', metric='euclidean')\n"
   ]
  },
  {
   "cell_type": "code",
   "execution_count": null,
   "id": "8c3417b1",
   "metadata": {},
   "outputs": [],
   "source": [
    "\n",
    "# Plot the dendrogram\n",
    "plt.figure(figsize=(25, 10))\n",
    "dendrogram(Z)\n",
    "plt.title('Dendrogram')\n",
    "plt.xlabel('Passenger ID')\n",
    "plt.ylabel('Distance')\n",
    "plt.show()\n",
    "\n"
   ]
  },
  {
   "cell_type": "code",
   "execution_count": null,
   "id": "4dd0fb09",
   "metadata": {},
   "outputs": [],
   "source": [
    "# Determine the optimal number of clusters\n",
    "k = 3\n",
    "clusters = fcluster(Z, k, criterion='maxclust')\n"
   ]
  },
  {
   "cell_type": "code",
   "execution_count": null,
   "id": "f9418165",
   "metadata": {},
   "outputs": [],
   "source": [
    "\n",
    "# Add the cluster number to the original data\n",
    "data['cluster'] = clusters\n",
    "\n",
    "# Group the data by clusters\n",
    "grouped_data = data.groupby(['cluster'])\n"
   ]
  },
  {
   "cell_type": "code",
   "execution_count": null,
   "id": "f4cf7197",
   "metadata": {},
   "outputs": [],
   "source": [
    "\n",
    "# Get the mean of each feature for each cluster\n",
    "grouped_data_mean = grouped_data.mean()\n",
    "\n",
    "# Print the inferences\n",
    "print(grouped_data_mean)"
   ]
  },
  {
   "cell_type": "code",
   "execution_count": null,
   "id": "7a7f0c1b",
   "metadata": {},
   "outputs": [],
   "source": [
    "\n"
   ]
  },
  {
   "cell_type": "code",
   "execution_count": null,
   "id": "612fa1b3",
   "metadata": {},
   "outputs": [],
   "source": [
    "#calculate the silhouette score\n",
    "\n",
    "silhouette_score = sil(data_scaled, clusters)\n",
    "print(\"Silhouette score:\", silhouette_score)\n",
    "\n",
    "# Get the adjusted Rand index\n",
    "ari = adjusted_rand_score(data['Award'], clusters)\n",
    "print(\"Adjusted Rand index:\", ari)\n",
    "\n",
    "# Get the Fowlkes-Mallows index\n",
    "fmi = fowlkes_mallows_score(data['Award'], clusters)\n",
    "print(\"Fowlkes-Mallows index:\", fmi)\n",
    "\n",
    "# Get the Calinski-Harabasz index\n",
    "chi = calinski_harabasz_score(data_scaled, clusters)\n",
    "print(\"Calinski-Harabasz index:\", chi)\n",
    "\n",
    "\n",
    "# Get the Davies-Bouldin index\n",
    "dbi = davies_bouldin_score(data_scaled, clusters)\n",
    "print(\"Davies-Bouldin index:\", dbi)\n",
    "\n",
    "# Perform cross-validation\n",
    "cv_results = cross_val_score(RandomForestClassifier(), data_scaled, clusters, cv=KFold(5))\n",
    "print(\"Cross-validation results:\", cv_results)\n"
   ]
  },
  {
   "cell_type": "code",
   "execution_count": null,
   "id": "ae64c669",
   "metadata": {},
   "outputs": [],
   "source": [
    "#In the above inference, we are not getting the proper accuracy so we will try more functions and try using Kmeans"
   ]
  },
  {
   "cell_type": "code",
   "execution_count": null,
   "id": "f5717034",
   "metadata": {},
   "outputs": [],
   "source": []
  },
  {
   "cell_type": "markdown",
   "id": "122ca3b9",
   "metadata": {},
   "source": [
    "# KMeans Clustering"
   ]
  },
  {
   "cell_type": "code",
   "execution_count": null,
   "id": "c8458dbc",
   "metadata": {},
   "outputs": [],
   "source": [
    "\n",
    "\n",
    "# Perform scaling on the data\n",
    "from sklearn.preprocessing import StandardScaler\n",
    "scaler = StandardScaler()\n",
    "data_scaled = scaler.fit_transform(data)\n",
    "\n"
   ]
  },
  {
   "cell_type": "code",
   "execution_count": null,
   "id": "c0bd385b",
   "metadata": {},
   "outputs": [],
   "source": [
    "# Fit the KMeans algorithm on scaled data\n",
    "kmeans = KMeans(n_clusters=2, random_state=123)\n",
    "kmeans.fit(data_scaled)\n",
    "prediction = kmeans.predict(data_scaled)\n"
   ]
  },
  {
   "cell_type": "code",
   "execution_count": null,
   "id": "0f8b7511",
   "metadata": {},
   "outputs": [],
   "source": [
    "\n",
    "# Elbow Plot\n",
    "ssd = []\n",
    "range_n_clusters = [15,30,45,60,75,90,105,120]\n",
    "for num_clusters in range_n_clusters:\n",
    "    kmeans = KMeans(n_clusters=num_clusters, max_iter=50, random_state=123)\n",
    "    kmeans.fit(data_scaled)\n",
    "    \n",
    "    ssd.append(kmeans.inertia_)\n",
    "    \n",
    "\n"
   ]
  },
  {
   "cell_type": "code",
   "execution_count": null,
   "id": "ec4cf699",
   "metadata": {},
   "outputs": [],
   "source": [
    "# plot the SSDs for each n_clusters\n",
    "plt.plot(ssd)\n",
    "\n",
    "# Determining the optimal number of clusters\n",
    "# The elbow plot shows that 4 clusters would be the optimal number of clusters"
   ]
  },
  {
   "cell_type": "code",
   "execution_count": null,
   "id": "e878da7e",
   "metadata": {},
   "outputs": [],
   "source": [
    "# Analysis of clusters formed\n",
    "data[\"LABEL\"] = prediction\n",
    "\n",
    "# Number of customers in each cluster\n",
    "print(data[\"LABEL\"].value_counts())\n",
    "\n",
    "\n"
   ]
  },
  {
   "cell_type": "code",
   "execution_count": null,
   "id": "224aa9c5",
   "metadata": {},
   "outputs": [],
   "source": [
    "# Mean of each variable for each cluster\n",
    "aggregations = {\"Balance\": \"mean\",\n",
    "                \"Qual_miles\": \"mean\",\n",
    "                \"cc1_miles\": \"mean\",\n",
    "                \"cc2_miles\": \"mean\",\n",
    "                \"cc3_miles\": \"mean\",\n",
    "                \"Bonus_miles\": \"mean\",\n",
    "                \"Bonus_trans\": \"mean\",\n",
    "                \"Flight_miles_12mo\": \"mean\",\n",
    "                \"Flight_trans_12\": \"mean\",\n",
    "                \"Days_since_enroll\": \"mean\",\n",
    "                \"Award\": \"mean\"}\n",
    "result = data.groupby([\"LABEL\"]).agg(aggregations)\n",
    "print(result)\n"
   ]
  },
  {
   "cell_type": "code",
   "execution_count": null,
   "id": "da4c5118",
   "metadata": {},
   "outputs": [],
   "source": [
    "\n",
    "# Checking the centroids of the clusters\n",
    "print(\"Centroids:\")\n",
    "print(kmeans.cluster_centers_)\n",
    "\n"
   ]
  },
  {
   "cell_type": "code",
   "execution_count": null,
   "id": "2b2beb8d",
   "metadata": {},
   "outputs": [],
   "source": [
    "# # Plotting the variables against the centroids\n",
    "# for i in range(4):\n",
    "#     plt.scatter(data[data[\"LABEL\"]==i][\"Balance\"],\n",
    "#                 data[data[\"LABEL\"]==i][\"Qual_miles\"],\n",
    "#                 label=\"Cluster\"+str(i+1),\n",
    "#                 color=np.random.rand(3,))\n",
    "# pl"
   ]
  },
  {
   "cell_type": "code",
   "execution_count": null,
   "id": "90c575f8",
   "metadata": {},
   "outputs": [],
   "source": [
    "# plot the results\n",
    "plt.scatter(data.iloc[prediction == 0, 0], data.iloc[prediction == 0, 1], s = 100, c = 'red', label = 'Cluster 1')\n",
    "plt.scatter(data.iloc[prediction == 1, 0], data.iloc[prediction == 1, 1], s = 100, c = 'blue', label = 'Cluster 2')\n",
    "plt.scatter(data.iloc[prediction == 2, 0], data.iloc[prediction == 2, 1], s = 100, c = 'green', label = 'Cluster 3')\n"
   ]
  },
  {
   "cell_type": "code",
   "execution_count": null,
   "id": "553b4bc3",
   "metadata": {},
   "outputs": [],
   "source": [
    "\n",
    "# plot the centroids\n",
    "plt.scatter(kmeans.cluster_centers_[:, 0], kmeans.cluster_centers_[:, 1], s = 300, c = 'yellow', label = 'Centroids')\n",
    "plt.title('Clusters of passengers')\n",
    "plt.xlabel('ID')\n",
    "plt.ylabel('Balance')\n",
    "plt.legend()\n",
    "plt.show()"
   ]
  },
  {
   "cell_type": "code",
   "execution_count": null,
   "id": "0957d63b",
   "metadata": {},
   "outputs": [],
   "source": [
    "#calculate the silhouette score\n",
    "\n",
    "silhouette_score = sil(data_scaled, clusters)\n",
    "print(\"Silhouette score:\", silhouette_score)\n",
    "\n",
    "# Get the adjusted Rand index\n",
    "ari = adjusted_rand_score(data['Award'], clusters)\n",
    "print(\"Adjusted Rand index:\", ari)\n",
    "\n",
    "# Get the Fowlkes-Mallows index\n",
    "fmi = fowlkes_mallows_score(data['Award'], clusters)\n",
    "print(\"Fowlkes-Mallows index:\", fmi)\n",
    "\n",
    "# Get the Calinski-Harabasz index\n",
    "chi = calinski_harabasz_score(data_scaled, clusters)\n",
    "print(\"Calinski-Harabasz index:\", chi)\n",
    "\n",
    "\n",
    "# Get the Davies-Bouldin index\n",
    "dbi = davies_bouldin_score(data_scaled, clusters)\n",
    "print(\"Davies-Bouldin index:\", dbi)\n",
    "\n",
    "# Perform cross-validation\n",
    "cv_results = cross_val_score(RandomForestClassifier(), data_scaled, clusters, cv=KFold(5))\n",
    "print(\"Cross-validation results:\", cv_results)"
   ]
  },
  {
   "cell_type": "markdown",
   "id": "2a60afe7",
   "metadata": {},
   "source": [
    "#In this case, the cross-validation results are all 1, which suggests that the model has a high accuracy in terms of clustering the data points into the right clusters. This could mean that the K-means model is a good fit for the data and can effectively identify the different segments among the passengers."
   ]
  },
  {
   "cell_type": "markdown",
   "id": "53344ef4",
   "metadata": {},
   "source": [
    "# Use of DBSCAN "
   ]
  },
  {
   "cell_type": "code",
   "execution_count": null,
   "id": "09a3df2f",
   "metadata": {},
   "outputs": [],
   "source": [
    "\n",
    "# Fit the DBSCAN model to the scaled data\n",
    "model = DBSCAN(eps=0.5, min_samples=5)\n",
    "model.fit(data_scaled)\n"
   ]
  },
  {
   "cell_type": "code",
   "execution_count": null,
   "id": "42434b1b",
   "metadata": {},
   "outputs": [],
   "source": [
    "# # Obtain the labels for the data points\n",
    "labels = model.labels_"
   ]
  },
  {
   "cell_type": "code",
   "execution_count": null,
   "id": "2b219d25",
   "metadata": {},
   "outputs": [],
   "source": [
    "# # Plot the data points and color-code the clusters\n",
    "\n",
    "colors = {0:'red', 1:'blue', 2:'green', 3:'yellow', 4:'black', 5:'orange'}\n",
    "fig, ax = plt.subplots()\n",
    "default_color = 'gray'\n",
    "c = [colors.get(l, default_color) for l in labels if l != -1]\n",
    "ax.scatter(data[labels != -1]['Balance'], data[labels != -1]['Qual_miles'], c=c)\n",
    "plt.show()"
   ]
  },
  {
   "cell_type": "code",
   "execution_count": null,
   "id": "593efd1d",
   "metadata": {},
   "outputs": [],
   "source": [
    "#calculate the silhouette score\n",
    "\n",
    "silhouette_score = sil(data_scaled, clusters)\n",
    "print(\"Silhouette score:\", silhouette_score)\n",
    "\n",
    "# Get the adjusted Rand index\n",
    "ari = adjusted_rand_score(data['Award'], clusters)\n",
    "print(\"Adjusted Rand index:\", ari)\n",
    "\n",
    "# Get the Fowlkes-Mallows index\n",
    "fmi = fowlkes_mallows_score(data['Award'], clusters)\n",
    "print(\"Fowlkes-Mallows index:\", fmi)\n",
    "\n",
    "# Get the Calinski-Harabasz index\n",
    "chi = calinski_harabasz_score(data_scaled, clusters)\n",
    "print(\"Calinski-Harabasz index:\", chi)\n",
    "\n",
    "\n",
    "# Get the Davies-Bouldin index\n",
    "dbi = davies_bouldin_score(data_scaled, clusters)\n",
    "print(\"Davies-Bouldin index:\", dbi)\n",
    "\n",
    "# Perform cross-validation\n",
    "cv_results = cross_val_score(RandomForestClassifier(), data_scaled, clusters, cv=KFold(5))\n",
    "print(\"Cross-validation results:\", cv_results)\n"
   ]
  },
  {
   "cell_type": "code",
   "execution_count": null,
   "id": "ea6fa013",
   "metadata": {},
   "outputs": [],
   "source": []
  },
  {
   "cell_type": "code",
   "execution_count": null,
   "id": "952d5864",
   "metadata": {},
   "outputs": [],
   "source": []
  }
 ],
 "metadata": {
  "kernelspec": {
   "display_name": "Python 3",
   "language": "python",
   "name": "python3"
  },
  "language_info": {
   "codemirror_mode": {
    "name": "ipython",
    "version": 3
   },
   "file_extension": ".py",
   "mimetype": "text/x-python",
   "name": "python",
   "nbconvert_exporter": "python",
   "pygments_lexer": "ipython3",
   "version": "3.7.6"
  }
 },
 "nbformat": 4,
 "nbformat_minor": 5
}
